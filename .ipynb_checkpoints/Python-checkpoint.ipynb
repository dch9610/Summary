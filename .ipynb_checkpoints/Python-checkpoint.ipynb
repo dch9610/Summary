{
 "cells": [
  {
   "cell_type": "markdown",
   "metadata": {},
   "source": [
    "# 라이브러리\n",
    "- from bs4 import BeautifulSoup # 웹상 html문서를 읽어드림\n",
    "- import re # 정규표현식 사용\n",
    "- import folium # 위치정보 라이브러리 적용\n",
    "- import requests\n",
    "- import json # 웹 주소\n",
    "- import pymongo # mongoDB 사용\n",
    "- import cls1 #파일명 다른 파일에서 사용시  \n",
    "- from selenium import webdriver # chrome driver 사용\n",
    "- import time # 시간함수 사용\n",
    "- import pandas as pd # pandas 사용"
   ]
  },
  {
   "cell_type": "markdown",
   "metadata": {},
   "source": [
    "### 조건문"
   ]
  },
  {
   "cell_type": "code",
   "execution_count": 3,
   "metadata": {},
   "outputs": [
    {
     "name": "stdout",
     "output_type": "stream",
     "text": [
      "숫자1:12\n",
      "숫자2:12\n",
      "두번째 입력했던 12가 12보다 큽니다.\n"
     ]
    }
   ],
   "source": [
    "# .format 사용\n",
    "a=int(input(\"숫자1:\"))\n",
    "b=int(input(\"숫자2:\"))\n",
    "\n",
    "if a>b:\n",
    "    print(\"처음 입력했던 {}가  {}보다 큽니다\" .format(a,b))\n",
    "else:\n",
    "    print(\"두번째 입력했던 {}가 {}보다 큽니다.\" .format(b,a))"
   ]
  },
  {
   "cell_type": "code",
   "execution_count": 1,
   "metadata": {},
   "outputs": [
    {
     "name": "stdout",
     "output_type": "stream",
     "text": [
      "숫자입력:90\n",
      "A\n"
     ]
    }
   ],
   "source": [
    "a = int(input(\"숫자입력:\"))\n",
    "\n",
    "if a >= 90 and a <= 93:  #and or not\n",
    "#if a >= 90:\n",
    "    print(\"A\")\n",
    "elif a>=80:\n",
    "    print(\"B\")\n",
    "elif a>=70:\n",
    "    print(\"C\")\n",
    "else:\n",
    "    print(\"D\")"
   ]
  },
  {
   "cell_type": "code",
   "execution_count": 2,
   "metadata": {},
   "outputs": [],
   "source": [
    "# 리스트  : 값만 들어가 있음.\n",
    "a = [3, 5, 6, 2, 5, 8]\n",
    "#    0  1  2  3  4  5 -> 인덱스 번호\n",
    "#   -6 -5 -4 -3 -2 -1"
   ]
  },
  {
   "cell_type": "code",
   "execution_count": 4,
   "metadata": {
    "scrolled": true
   },
   "outputs": [
    {
     "name": "stdout",
     "output_type": "stream",
     "text": [
      "3 5 6 2 5 8 "
     ]
    }
   ],
   "source": [
    "#반복문\n",
    "for i in a:\n",
    "    print(i, end=\" \") # end=\" \" 가로로 출력"
   ]
  },
  {
   "cell_type": "code",
   "execution_count": 5,
   "metadata": {},
   "outputs": [
    {
     "name": "stdout",
     "output_type": "stream",
     "text": [
      "0 3,1 5,2 6,3 2,4 5,5 8,"
     ]
    }
   ],
   "source": [
    "for i,j in enumerate(a):\n",
    "    print(i,j, end=\",\") # 인덱스 번호와 함께 출력"
   ]
  },
  {
   "cell_type": "code",
   "execution_count": 7,
   "metadata": {},
   "outputs": [
    {
     "name": "stdout",
     "output_type": "stream",
     "text": [
      "속초\n"
     ]
    }
   ],
   "source": [
    "#딕셔너리는 키와 값으로 이뤄어져 있음\n",
    "#값을 꺼낼때 key를 이용해서 꺼냄   JSON, XML\n",
    "\n",
    "a = [ {\"name\":\"가나다1\", \"age\":38, \"addr\":\"용인\"},\n",
    "     {\"name\":\"가나다2\", \"age\":48, \"addr\":\"서울\"},\n",
    "    {\"name\":\"가나다3\", \"age\":58, \"addr\":\"속초\"}]\n",
    "#리스트의 입장에서 3개 [{},{},{}]\n",
    "#용인과 가나다 2를 출력하시오.\n",
    "print(a[2]['addr']) # 인덱스 2번에서 키 addr의 값을 출력"
   ]
  },
  {
   "cell_type": "code",
   "execution_count": 8,
   "metadata": {
    "scrolled": true
   },
   "outputs": [
    {
     "name": "stdout",
     "output_type": "stream",
     "text": [
      "가나다\n",
      "4\n",
      "5\n"
     ]
    }
   ],
   "source": [
    "b = {\"ret\":{\"abc\":[1,3,4,5]}, \"name\":\"가나다\"}\n",
    "\n",
    "#가나다와 4, 5를 출력하시오.\n",
    "print(b['name'])\n",
    "print(b['ret']['abc'][2])\n",
    "print(b['ret']['abc'][3])"
   ]
  },
  {
   "cell_type": "markdown",
   "metadata": {},
   "source": [
    "## 웹사이트와 연결하여 정보 가져오기"
   ]
  },
  {
   "cell_type": "code",
   "execution_count": 9,
   "metadata": {
    "scrolled": true
   },
   "outputs": [
    {
     "name": "stdout",
     "output_type": "stream",
     "text": [
      "<class 'dict'>\n",
      "{'ret': {'id': 'a386', 'name': '123', 'age': 34}, 'ret1': {'id': 'a383', 'name': '123', 'age': 36}}\n",
      "[['a386', '123', 34], ['a383', '123', 36]]\n"
     ]
    }
   ],
   "source": [
    "import requests\n",
    "import json\n",
    "\n",
    "url=\"http://ihongss.com/json/exam2.json\"  ㅠ# 서버주소\n",
    "str1 = requests.get(url).text             #서버에서 값을 받음  # 문자열\n",
    "dic = json.loads(str1) #문자를 python 자료형으로 변환\n",
    "\n",
    "print(type(dic)) #타입확인\n",
    "print(dic) # 자료 확인\n",
    "\n",
    "#id, name, age를   [ [ , , ],[ , , ] ]\n",
    "a = []  #빈리스트를 생성함.\n",
    "a.append( [ dic['ret']['id'], dic['ret']['name'], dic['ret']['age']  ])\n",
    "a.append( [ dic['ret1']['id'], dic['ret1']['name'], dic['ret1']['age']  ])\n",
    "\n",
    "print(a)"
   ]
  },
  {
   "cell_type": "code",
   "execution_count": 12,
   "metadata": {},
   "outputs": [
    {
     "name": "stdout",
     "output_type": "stream",
     "text": [
      "a2001 123 34\n",
      "a2002 123 54\n",
      "a2003 123 36\n",
      "a2004 123 38\n",
      "[['a2001', '123', 34], ['a2002', '123', 54], ['a2003', '123', 36], ['a2004', '123', 38], ['a2005', '123', 17], ['a2006', '123', 52], ['a2007', '123', 33]]\n",
      "==============================\n",
      "['a2002', '123', 54]\n",
      "['a2006', '123', 52]\n"
     ]
    }
   ],
   "source": [
    "import requests\n",
    "import json\n",
    "\n",
    "\n",
    "url=\"http://ihongss.com/json/exam3.json\"    # 서버주소\n",
    "str1 = requests.get(url).text             #서버에서 값을 받음  # 문자열\n",
    "dic = json.loads(str1) #문자를 python 자료형으로 변환\n",
    "#print(dic) # {\"ret\":[], \"ret1\":[] } # 해당 서버의 값을 출력\n",
    "\n",
    "a1 = []  #빈리스트를 생성함.\n",
    "a = dic[\"ret\"]  #[{},{},{},{}]\n",
    "\n",
    "for i in a: # dic['ret']이 4개 있으므로 4번 반복\n",
    "    print(i['id'],i['name'],i['age'])    # 딕셔너리 해당값을 출력\n",
    "    a1.append(  [ i['id'],i['name'],i['age'] ]    ) # 값을 a1 리스트에 추가\n",
    "\n",
    "b = dic[\"ret1\"] #[{},{},{}]\n",
    "for i in b:\n",
    "    #print(i['id'],i['name'],i['age'])\n",
    "    a1.append(  [ i['id'],i['name'],i['age'] ]    )\n",
    "\n",
    "\n",
    "# [ [],[],[],[],[],[],[] ]\n",
    "print(a1)\n",
    "print(\"=\" * 30)\n",
    "for t in a1: #7번 반복문\n",
    "    if t[2]>=40 : # 'age'에 해당하는 조건\n",
    "        print(t) #[ 아이디, 이름, 나이]"
   ]
  },
  {
   "cell_type": "markdown",
   "metadata": {},
   "source": [
    "## MongoDB와 연결\n",
    "- pip install pymongo  "
   ]
  },
  {
   "cell_type": "code",
   "execution_count": null,
   "metadata": {},
   "outputs": [],
   "source": [
    "import pymongo\n",
    "\n",
    "conn = pymongo.MongoClient('192.168.99.100',32767) # docker를 이용해 만든 포트번호와 일치해야함\n",
    "db = conn.get_database(\"db1\") # db1생성\n",
    "table = db.get_collection(\"test1\") #collection 생성\n",
    "\n",
    "dict1 = {\"id\":\"c\",\"age\":35} #추가할 자료 만들기\n",
    "table.insert_one(dict1)  #DB에 추가하기"
   ]
  },
  {
   "cell_type": "code",
   "execution_count": null,
   "metadata": {},
   "outputs": [],
   "source": [
    "# 서버에서 값을 받아 mongoDB에 저장하기\n",
    "\n",
    "import requests\n",
    "import json\n",
    "import pymongo\n",
    "\n",
    "# 서버주소\n",
    "url=\"http://ihongss.com/json/exam7.json\"    \n",
    "#서버에서 값을 받음\n",
    "str1 = requests.get(url).text               # 문자열\n",
    "#문자를 python 자료형으로 변환\n",
    "dic = json.loads(str1) \n",
    "\n",
    "#conn = pymongo.MongoClient('127.0.0.1',27017) #window 서버 접속\n",
    "conn = pymongo.MongoClient('192.168.99.100',32767) #docker 서버 접속\n",
    "db = conn.get_database(\"db1\") # db1생성\n",
    "table = db.get_collection(\"test2\") #collection 생성\n"
   ]
  },
  {
   "cell_type": "code",
   "execution_count": null,
   "metadata": {},
   "outputs": [],
   "source": [
    "import requests\n",
    "import json\n",
    "import pymongo\n",
    "import folium # 위치정보 라이브러리 적용\n",
    "\n",
    "conn = pymongo.MongoClient('192.168.99.100',32767) #docker 서버 접속\n",
    "#conn = pymongo.MongoClient('localhost',27017)      #윈도우\n",
    "db = conn.get_database(\"db1\") # db1생성\n",
    "table = db.get_collection(\"test3\") #collection 생성\n",
    "\n",
    "# 데이터 꺼내기\n",
    "# 데이터 중에서 _id는 안가져 옴 \n",
    "data1 = table.find({},{'_id':False})\n",
    "\n",
    "# 지도 시작시 위치, zoom_size 지도확대 비율 ~18까지 있음.\n",
    "map_osm = folium.Map(location=[37.5117839,  126.9230091], zoom_size=14)\n",
    "for i in data1:\n",
    "    #print( i['lat'], i['lng'], i['name'] )\n",
    "    folium.Marker([float(i['lat']), float(i['lng'])], popup=i['name']).add_to(map_osm)\n",
    "\n",
    "map_osm.save('map.html') #완성된 지도를 map.html로 저장함."
   ]
  },
  {
   "cell_type": "code",
   "execution_count": 1,
   "metadata": {},
   "outputs": [
    {
     "name": "stdout",
     "output_type": "stream",
     "text": [
      "0. 종료\n",
      "1. 추가\n",
      "2. 삭제\n",
      "3. 수정\n",
      "4. 목록\n",
      "숫자를 입력하세요?1\n",
      "이름 입력?Lee\n",
      "연락처 입력?010-5034-9610\n",
      "나이 입력?25\n",
      "이메일 입력?dch@naver.com\n",
      "0. 종료\n",
      "1. 추가\n",
      "2. 삭제\n",
      "3. 수정\n",
      "4. 목록\n",
      "숫자를 입력하세요?4\n",
      "{'name': 'Lee', 'tel': '010-5034-9610', 'age': 25, 'email': 'dch@naver.com'}\n",
      "0. 종료\n",
      "1. 추가\n",
      "2. 삭제\n",
      "3. 수정\n",
      "4. 목록\n",
      "숫자를 입력하세요?0\n"
     ]
    }
   ],
   "source": [
    "#함수 구조로 변경\n",
    "import pymongo\n",
    "\n",
    "conn = pymongo.MongoClient('192.168.99.100',32767) #docker 서버 접속\n",
    "#conn = pymongo.MongoClient('localhost',27017)      #윈도우\n",
    "db = conn.get_database(\"db1\") # db1생성\n",
    "table = db.get_collection(\"member\") #collection 생성\n",
    "\n",
    "def mymenu(): # 함수생성\n",
    "    print(\"0. 종료\")\n",
    "    print(\"1. 추가\")\n",
    "    print(\"2. 삭제\")\n",
    "    print(\"3. 수정\")\n",
    "    print(\"4. 목록\")\n",
    "    n = int(input(\"숫자를 입력하세요?\"))\n",
    "    return n\n",
    "\n",
    "def myinsert():\n",
    "    na = input(\"이름 입력?\")\n",
    "    te = input(\"연락처 입력?\")\n",
    "    ag = int(input(\"나이 입력?\"))\n",
    "    em = input(\"이메일 입력?\")\n",
    "    table.insert_one({\"name\":na, \"tel\":te, \"age\":ag, \"email\":em}) # DB에 데이터 추가\n",
    "\n",
    "def mydelete():\n",
    "    na = input(\"삭제할 이름 입력?\")\n",
    "    table.delete_one({\"name\":na}) # DB에 데이터 삭제\n",
    "\n",
    "def myupdate():\n",
    "    na = input(\"수정할 이름 입력(변경불가)?\")\n",
    "    te = input(\"연락처 입력?\")\n",
    "    ag = int(input(\"나이 입력?\"))\n",
    "    em = input(\"이메일 입력?\")\n",
    "    table.update_one({ \"name\" : na }, { \"$set\" : { \"tel\" : te, \"age\": ag, \"email\":em } }) # DB 데이터 수정\n",
    "\n",
    "def myselect():\n",
    "    data1 = table.find({},{'_id':False}) # mongo에서 데이터 가져오기\n",
    "    for i in data1:\n",
    "        print(i)\n",
    "\n",
    "        \n",
    "while True: #반복문 조건 True => 무한반복문\n",
    "    n = mymenu()\n",
    "    \n",
    "    if n == 0:\n",
    "        break #반복문 종료\n",
    "        \n",
    "    if n == 1: #추가\n",
    "        myinsert()\n",
    "    \n",
    "    if n == 2: #삭제\n",
    "        mydelete()\n",
    "    \n",
    "    if n == 3: #수정\n",
    "        myupdate()\n",
    "        \n",
    "    if n == 4: #목록\n",
    "        myselect()"
   ]
  },
  {
   "cell_type": "markdown",
   "metadata": {},
   "source": [
    "### 값 구하기"
   ]
  },
  {
   "cell_type": "code",
   "execution_count": 2,
   "metadata": {},
   "outputs": [
    {
     "name": "stdout",
     "output_type": "stream",
     "text": [
      "최대값은=289\n",
      "최대값은=2\n"
     ]
    }
   ],
   "source": [
    "# 최대값, 최소값 구하기\n",
    "a = [3, 5, 289, 2, 34, 134]\n",
    "\n",
    "max = a[0]\n",
    "min = a[0]\n",
    "for i in a:\n",
    "    if max < i: \n",
    "        max = i\n",
    "\n",
    "    if min > i:\n",
    "        min = i\n",
    "\n",
    "print(\"최대값은={}\".format(max))\n",
    "print(\"최대값은={}\".format(min))"
   ]
  },
  {
   "cell_type": "code",
   "execution_count": 3,
   "metadata": {},
   "outputs": [
    {
     "name": "stdout",
     "output_type": "stream",
     "text": [
      "[4, 67, 8, 90, 30]\n",
      "[5, 2, 4, 1, 3]\n"
     ]
    }
   ],
   "source": [
    "# 순위 구하기\n",
    "a = [4,67, 8,90,30]\n",
    "b = [1, 1, 1, 1, 1]\n",
    "\n",
    "for i in range(len(a)):  # 0 1 2 3 4  =>  0부터 5보다작을 때 까지 결국 4까지\n",
    "    for j in range(len(a)): # 0 1 2 3 4\n",
    "        if a[i] < a[j]:\n",
    "            b[i] = b[i]+1\n",
    "print(a)\n",
    "print(b)"
   ]
  },
  {
   "cell_type": "code",
   "execution_count": 4,
   "metadata": {},
   "outputs": [
    {
     "name": "stdout",
     "output_type": "stream",
     "text": [
      "{1, 2, 3, 4}\n",
      "\n"
     ]
    }
   ],
   "source": [
    "#셋\n",
    "b = {1, 2, 3, 3, 4} #값 중복 불가 => 셋\n",
    "\n",
    "# Set은 중복이 없는 요소들 (unique elements)로만 구성\n",
    "print(b)\n",
    "# {1, 2, 3, 4}\n",
    "\n",
    "b.add(7)  # 하나만 추가\n",
    "b.update({4,2,10}) # 여러 개 추가\n",
    "b.remove(1) # 하나만 삭제\n",
    "b.clear() # 모두 삭제\n",
    "\n",
    "for i in b: \n",
    "    print(i, end=\" \")\n",
    "print()   "
   ]
  },
  {
   "cell_type": "code",
   "execution_count": 5,
   "metadata": {
    "scrolled": true
   },
   "outputs": [
    {
     "ename": "TypeError",
     "evalue": "'tuple' object does not support item assignment",
     "output_type": "error",
     "traceback": [
      "\u001b[0;31m---------------------------------------------------------------------------\u001b[0m",
      "\u001b[0;31mTypeError\u001b[0m                                 Traceback (most recent call last)",
      "\u001b[0;32m<ipython-input-5-06c12086bdba>\u001b[0m in \u001b[0;36m<module>\u001b[0;34m\u001b[0m\n\u001b[1;32m      1\u001b[0m \u001b[0;31m# 튜플\u001b[0m\u001b[0;34m\u001b[0m\u001b[0;34m\u001b[0m\u001b[0;34m\u001b[0m\u001b[0m\n\u001b[1;32m      2\u001b[0m \u001b[0mc\u001b[0m \u001b[0;34m=\u001b[0m \u001b[0;34m(\u001b[0m\u001b[0;36m2\u001b[0m\u001b[0;34m,\u001b[0m\u001b[0;36m2\u001b[0m\u001b[0;34m,\u001b[0m\u001b[0;36m3\u001b[0m\u001b[0;34m,\u001b[0m\u001b[0;36m4\u001b[0m\u001b[0;34m,\u001b[0m\u001b[0;36m5\u001b[0m\u001b[0;34m)\u001b[0m \u001b[0;31m#값 변경 불가!!! => 튜플\u001b[0m\u001b[0;34m\u001b[0m\u001b[0;34m\u001b[0m\u001b[0m\n\u001b[0;32m----> 3\u001b[0;31m \u001b[0mc\u001b[0m\u001b[0;34m[\u001b[0m\u001b[0;36m3\u001b[0m\u001b[0;34m]\u001b[0m \u001b[0;34m=\u001b[0m \u001b[0;36m44\u001b[0m\u001b[0;34m\u001b[0m\u001b[0;34m\u001b[0m\u001b[0m\n\u001b[0m\u001b[1;32m      4\u001b[0m \u001b[0;34m\u001b[0m\u001b[0m\n\u001b[1;32m      5\u001b[0m \u001b[0;32mfor\u001b[0m \u001b[0mi\u001b[0m \u001b[0;32min\u001b[0m \u001b[0mc\u001b[0m\u001b[0;34m:\u001b[0m \u001b[0;31m#튜플\u001b[0m\u001b[0;34m\u001b[0m\u001b[0;34m\u001b[0m\u001b[0m\n",
      "\u001b[0;31mTypeError\u001b[0m: 'tuple' object does not support item assignment"
     ]
    }
   ],
   "source": [
    "# 튜플\n",
    "c = (2,2,3,4,5) #값 변경 불가!!! => 튜플\n",
    "c[3] = 44\n",
    "\n",
    "for i in c: #튜플\n",
    "    print(i, end=\" \")\n",
    "print()"
   ]
  },
  {
   "cell_type": "code",
   "execution_count": 7,
   "metadata": {},
   "outputs": [
    {
     "name": "stdout",
     "output_type": "stream",
     "text": [
      "*\n",
      "**\n",
      "***\n",
      "****\n"
     ]
    }
   ],
   "source": [
    "# 1 *\n",
    "# 2 **\n",
    "# 3 ***\n",
    "\n",
    "for i in range(0, 4, 1):\n",
    "    for j in range(0, (i+1), 1):\n",
    "        print(\"*\", end=\"\")\n",
    "    print(end=\"\\n\")"
   ]
  },
  {
   "cell_type": "markdown",
   "metadata": {},
   "source": [
    "## 문자 합치기, 나누기"
   ]
  },
  {
   "cell_type": "code",
   "execution_count": 2,
   "metadata": {},
   "outputs": [
    {
     "name": "stdout",
     "output_type": "stream",
     "text": [
      "abc,dfe,kkk\n"
     ]
    }
   ],
   "source": [
    "# 리스트를 하나의 문자로 합치기\n",
    "str1 = [\"abc\", \"dfe\", \"kkk\"]   # 리스트 배열\n",
    "str1 = \",\".join(str1)          # 문자열 합치기\n",
    "print(str1)"
   ]
  },
  {
   "cell_type": "code",
   "execution_count": 3,
   "metadata": {},
   "outputs": [
    {
     "name": "stdout",
     "output_type": "stream",
     "text": [
      "<class 'list'>\n",
      "['aaa', 'bbb', 'ccc']\n"
     ]
    }
   ],
   "source": [
    "# 문자열을 리스트로 나누기\n",
    "str1 = \"aaa bbb ccc\"\n",
    "arr = str1.split(\" \") #공백으로 구분하여 나누기\n",
    "print(type(arr))\n",
    "print(arr)"
   ]
  },
  {
   "cell_type": "code",
   "execution_count": 5,
   "metadata": {},
   "outputs": [
    {
     "name": "stdout",
     "output_type": "stream",
     "text": [
      "3\n",
      "3\n"
     ]
    }
   ],
   "source": [
    "#문제 : 문자열 한개를 입력받아서 a의 개수가 몇개인지 출력하시오\n",
    "#ex) aaaabbbbba   => 결과값 5출력\n",
    "\n",
    "b = \"aaabcde\"\n",
    "c = 0\n",
    "for i in b:\n",
    "    if i == 'a':\n",
    "        c=c+1\n",
    "print(c)\n",
    "\n",
    "\n",
    "c = b.count(\"a\") # 위의 구조와 동일한 기능\n",
    "print(c)"
   ]
  },
  {
   "cell_type": "code",
   "execution_count": 7,
   "metadata": {
    "scrolled": true
   },
   "outputs": [
    {
     "name": "stdout",
     "output_type": "stream",
     "text": [
      "['aaa', 'naver.com']\n",
      "naver.com@aaa\n"
     ]
    }
   ],
   "source": [
    "#문제 : 문자열을 이메일 포멧으로 받아서 순서를 변경하시오 \n",
    "#ex) aaa@naver.com => naver.com@aaa\n",
    "\n",
    "a= \"aaa@naver.com\"\n",
    "b=a.split(\"@\") # @을 기준으로 문자열을 나눔 / b[0] = 'aaa', b[1] = 'naver,com'\n",
    "print(b)\n",
    "c= b[1]+\"@\"+b[0] # 문자열 합치기\n",
    "print(c)\n"
   ]
  },
  {
   "cell_type": "code",
   "execution_count": 10,
   "metadata": {},
   "outputs": [
    {
     "name": "stdout",
     "output_type": "stream",
     "text": [
      "a1cba\n",
      "N\n"
     ]
    }
   ],
   "source": [
    "#문제 : 문자열을 입력받아서 앞뒤가 같은 문자(대칭)인지 판별하시오.\n",
    "#ex) abcba => yes  abccba => yes    abcaa => no\n",
    "\n",
    "str1 = \"abc1a\"\n",
    "str2 = str1[::-1] # 문자열 뒤집기\n",
    "print(str2)\n",
    "\n",
    "if str1 == str2:\n",
    "    print(\"Y\")\n",
    "else:    \n",
    "    print(\"N\")"
   ]
  },
  {
   "cell_type": "markdown",
   "metadata": {},
   "source": [
    "## 정규표현식"
   ]
  },
  {
   "cell_type": "code",
   "execution_count": 11,
   "metadata": {},
   "outputs": [
    {
     "name": "stdout",
     "output_type": "stream",
     "text": [
      "(0, 13)\n",
      "011-0000-0000\n"
     ]
    }
   ],
   "source": [
    "#정규표현식\n",
    "import re\n",
    "\n",
    "b = re.match('^[0-1]{1}[1]{2}-[0-9]{4}-[0-9]{4}$','011-0000-0000')\n",
    "if b != None : \n",
    "    print(b.span())\n",
    "    print(b.group())\n",
    "else:\n",
    "    print(\"None\")"
   ]
  },
  {
   "cell_type": "code",
   "execution_count": 13,
   "metadata": {
    "scrolled": true
   },
   "outputs": [
    {
     "name": "stdout",
     "output_type": "stream",
     "text": [
      "(0, 11)\n",
      "a+_@a.co.kr\n"
     ]
    }
   ],
   "source": [
    "import re\n",
    "\n",
    "p = re.match( '^[a-zA-Z0-9+-_.]+@[a-zA-Z0-9-]+\\.[a-zA-Z0-9-.]+$', 'a+_@a.co.kr' )    \n",
    "if p != None : \n",
    "    print(p.span())\n",
    "    print(p.group())\n",
    "else:\n",
    "    print(\"None\")  "
   ]
  },
  {
   "cell_type": "code",
   "execution_count": 14,
   "metadata": {},
   "outputs": [
    {
     "name": "stdout",
     "output_type": "stream",
     "text": [
      "(0, 3)\n",
      "가나다\n"
     ]
    }
   ],
   "source": [
    "#(문자열){시작개수, 끝개수}\n",
    "p1 = re.match( '^[가-힣]{2,4}$', '가나다' )    \n",
    "if p1 != None : \n",
    "    print(p1.span())\n",
    "    print(p1.group())\n",
    "else:\n",
    "    print(\"None\") "
   ]
  },
  {
   "cell_type": "code",
   "execution_count": 15,
   "metadata": {},
   "outputs": [
    {
     "name": "stdout",
     "output_type": "stream",
     "text": [
      "(0, 8)\n",
      "13:58:34\n"
     ]
    }
   ],
   "source": [
    "import re\n",
    "\n",
    "# time 정규식 => 19|23\n",
    "# @@ : ## : $$ => @@ 부분에 0~23까지 : \n",
    "b = re.match('^([0-1]{1}[0-9]{1}|[0-2]{1}[0-3]{1}):[0-5]{1}[0-9]{1}:[0-5]{1}[0-9]{1}$','13:58:34')\n",
    "if b != None : \n",
    "    print(b.span())\n",
    "    print(b.group())\n",
    "else:\n",
    "    print(\"None\")    "
   ]
  },
  {
   "cell_type": "code",
   "execution_count": 12,
   "metadata": {},
   "outputs": [],
   "source": [
    "import requests\n",
    "import json\n",
    "import pymongo\n",
    "\n",
    "url = \"http://ihongss.com/json/exam18.json\"\n",
    "str1 = requests.get(url).text\n",
    "dic = json.loads(str1)\n",
    "\n",
    "conn = pymongo.MongoClient('192.168.99.100', 32767)\n",
    "db = conn.get_database(\"profile\")\n",
    "table = db.get_collection(\"test\")\n",
    "\n",
    "for i in range(len(dic)):\n",
    "    a = 0\n",
    "    if re.match('^[가-힣]{2,4}$', dic[i]['name']) != None:\n",
    "        a += 1\n",
    "        # print(dic[i]['name'])\n",
    "    if re.match('^[a-zA-Z0-9+-_.]+@[a-zA-Z0-9-]+\\.[a-zA-Z0-9-.]+$', dic[i]['email']) != None:\n",
    "        a += 1\n",
    "        # print(dic[i]['email'])\n",
    "    if re.match('^(19|20)\\d{2}-(0[1-9]|1[012])-(0[1-9]|[12][0-9]|3[0-1])$', dic[i]['date']) != None:\n",
    "        a += 1\n",
    "        # print(dic[i]['date'])\n",
    "    if re.match('^([0-1]{1}[0-9]{1}|[0-2]{1}[0-3]{1}):[0-5]{1}[0-9]{1}:[0-5]{1}[0-9]{1}$', dic[i]['time']) != None:\n",
    "        a += 1\n",
    "        # print(dic[i]['time'])\n",
    "    if re.match('^(0[1-9]|1[012])/(0[1-9]|[12][0-9]|3[0-1])/(19[8-9]{1}[0-9]{1}|20[0-1][0-9]|2020)$', dic[i]['birth']) != None:\n",
    "        a += 1\n",
    "        # print(dic[i]['birth'])\n",
    "    if a == 5:\n",
    "        # print(dic[i])\n",
    "        table.insert_one(dic[i])\n"
   ]
  },
  {
   "cell_type": "markdown",
   "metadata": {},
   "source": [
    "## Beautifulsoup4 \n",
    "- pip install beautifulsoup4\n",
    "- 웹상 html 구조를 가지고 옴\n",
    "    * select_one == find   => 리스트가 아님\n",
    "    * select == find_all   => 리스트로 반환됨"
   ]
  },
  {
   "cell_type": "code",
   "execution_count": 17,
   "metadata": {
    "scrolled": true
   },
   "outputs": [
    {
     "name": "stdout",
     "output_type": "stream",
     "text": [
      "내용: a\n",
      "속성중에서 id값: abc\n",
      "내용: b\n",
      "내용: c\n",
      "a\n",
      "b\n",
      "c\n",
      "------------------------------\n",
      "a1\n",
      "b1\n",
      "c1\n",
      "------------------------------\n",
      "a2\n",
      "b2\n",
      "c2\n",
      "------------------------------\n"
     ]
    }
   ],
   "source": [
    "from bs4 import BeautifulSoup\n",
    "import requests\n",
    "\n",
    "url = \"http://ihongss.com/resources/exam1.html\"\n",
    "str = requests.get(url)\n",
    "\n",
    "soup = BeautifulSoup(str.text, 'html.parser')\n",
    "\n",
    "a  = soup.select_one(\"div\") #리스트 아님   find\n",
    "a1 = a.select(\"p\")\n",
    "for i in a1:\n",
    "    #print(i)\n",
    "    print(\"내용:\" , i.text)\n",
    "    if i.get(\"id\"): #속성중에서 id값이 있는지 확인\n",
    "        print(\"속성중에서 id값:\",i.attrs['id'])\n",
    "        \n",
    "b = soup.select(\"div\")  #모든 div값을 가져옴 리스트타입\n",
    "#print(b)\n",
    "for i in b:\n",
    "    c = i.select(\"p\")\n",
    "    for j in c:\n",
    "        print(j.text)\n",
    "    print(\"-\" * 30)"
   ]
  },
  {
   "cell_type": "markdown",
   "metadata": {},
   "source": [
    "## 데이터 프레임"
   ]
  },
  {
   "cell_type": "code",
   "execution_count": 19,
   "metadata": {},
   "outputs": [
    {
     "name": "stdout",
     "output_type": "stream",
     "text": [
      "<class 'pandas.core.frame.DataFrame'>\n",
      "RangeIndex: 533 entries, 0 to 532\n",
      "Data columns (total 5 columns):\n",
      " #   Column  Non-Null Count  Dtype \n",
      "---  ------  --------------  ----- \n",
      " 0   city    533 non-null    object\n",
      " 1   tmef    533 non-null    object\n",
      " 2   wf      533 non-null    object\n",
      " 3   tmn     533 non-null    object\n",
      " 4   tmx     533 non-null    object\n",
      "dtypes: object(5)\n",
      "memory usage: 20.9+ KB\n"
     ]
    },
    {
     "data": {
      "text/html": [
       "<div>\n",
       "<style scoped>\n",
       "    .dataframe tbody tr th:only-of-type {\n",
       "        vertical-align: middle;\n",
       "    }\n",
       "\n",
       "    .dataframe tbody tr th {\n",
       "        vertical-align: top;\n",
       "    }\n",
       "\n",
       "    .dataframe thead th {\n",
       "        text-align: right;\n",
       "    }\n",
       "</style>\n",
       "<table border=\"1\" class=\"dataframe\">\n",
       "  <thead>\n",
       "    <tr style=\"text-align: right;\">\n",
       "      <th></th>\n",
       "      <th>city</th>\n",
       "      <th>tmef</th>\n",
       "      <th>wf</th>\n",
       "      <th>tmn</th>\n",
       "      <th>tmx</th>\n",
       "    </tr>\n",
       "  </thead>\n",
       "  <tbody>\n",
       "    <tr>\n",
       "      <th>0</th>\n",
       "      <td>서울</td>\n",
       "      <td>2020-08-12 00:00</td>\n",
       "      <td>흐리고 비</td>\n",
       "      <td>24</td>\n",
       "      <td>30</td>\n",
       "    </tr>\n",
       "    <tr>\n",
       "      <th>1</th>\n",
       "      <td>서울</td>\n",
       "      <td>2020-08-12 12:00</td>\n",
       "      <td>흐리고 비</td>\n",
       "      <td>24</td>\n",
       "      <td>30</td>\n",
       "    </tr>\n",
       "    <tr>\n",
       "      <th>2</th>\n",
       "      <td>서울</td>\n",
       "      <td>2020-08-13 00:00</td>\n",
       "      <td>흐리고 비</td>\n",
       "      <td>25</td>\n",
       "      <td>30</td>\n",
       "    </tr>\n",
       "    <tr>\n",
       "      <th>3</th>\n",
       "      <td>서울</td>\n",
       "      <td>2020-08-13 12:00</td>\n",
       "      <td>흐리고 비</td>\n",
       "      <td>25</td>\n",
       "      <td>30</td>\n",
       "    </tr>\n",
       "    <tr>\n",
       "      <th>4</th>\n",
       "      <td>서울</td>\n",
       "      <td>2020-08-14 00:00</td>\n",
       "      <td>흐리고 비</td>\n",
       "      <td>24</td>\n",
       "      <td>29</td>\n",
       "    </tr>\n",
       "    <tr>\n",
       "      <th>...</th>\n",
       "      <td>...</td>\n",
       "      <td>...</td>\n",
       "      <td>...</td>\n",
       "      <td>...</td>\n",
       "      <td>...</td>\n",
       "    </tr>\n",
       "    <tr>\n",
       "      <th>528</th>\n",
       "      <td>서귀포</td>\n",
       "      <td>2020-08-16 00:00</td>\n",
       "      <td>맑음</td>\n",
       "      <td>25</td>\n",
       "      <td>30</td>\n",
       "    </tr>\n",
       "    <tr>\n",
       "      <th>529</th>\n",
       "      <td>서귀포</td>\n",
       "      <td>2020-08-16 12:00</td>\n",
       "      <td>맑음</td>\n",
       "      <td>25</td>\n",
       "      <td>30</td>\n",
       "    </tr>\n",
       "    <tr>\n",
       "      <th>530</th>\n",
       "      <td>서귀포</td>\n",
       "      <td>2020-08-17 00:00</td>\n",
       "      <td>구름많음</td>\n",
       "      <td>25</td>\n",
       "      <td>30</td>\n",
       "    </tr>\n",
       "    <tr>\n",
       "      <th>531</th>\n",
       "      <td>서귀포</td>\n",
       "      <td>2020-08-18 00:00</td>\n",
       "      <td>구름많음</td>\n",
       "      <td>25</td>\n",
       "      <td>30</td>\n",
       "    </tr>\n",
       "    <tr>\n",
       "      <th>532</th>\n",
       "      <td>서귀포</td>\n",
       "      <td>2020-08-19 00:00</td>\n",
       "      <td>맑음</td>\n",
       "      <td>25</td>\n",
       "      <td>30</td>\n",
       "    </tr>\n",
       "  </tbody>\n",
       "</table>\n",
       "<p>533 rows × 5 columns</p>\n",
       "</div>"
      ],
      "text/plain": [
       "    city              tmef     wf tmn tmx\n",
       "0     서울  2020-08-12 00:00  흐리고 비  24  30\n",
       "1     서울  2020-08-12 12:00  흐리고 비  24  30\n",
       "2     서울  2020-08-13 00:00  흐리고 비  25  30\n",
       "3     서울  2020-08-13 12:00  흐리고 비  25  30\n",
       "4     서울  2020-08-14 00:00  흐리고 비  24  29\n",
       "..   ...               ...    ...  ..  ..\n",
       "528  서귀포  2020-08-16 00:00     맑음  25  30\n",
       "529  서귀포  2020-08-16 12:00     맑음  25  30\n",
       "530  서귀포  2020-08-17 00:00   구름많음  25  30\n",
       "531  서귀포  2020-08-18 00:00   구름많음  25  30\n",
       "532  서귀포  2020-08-19 00:00     맑음  25  30\n",
       "\n",
       "[533 rows x 5 columns]"
      ]
     },
     "execution_count": 19,
     "metadata": {},
     "output_type": "execute_result"
    }
   ],
   "source": [
    "from urllib import request\n",
    "from bs4 import BeautifulSoup\n",
    "import pandas as pd\n",
    "\n",
    "target = request.urlopen(\"http://www.weather.go.kr/weather/forecast/mid-term-rss3.jsp?stnId=108\")\n",
    "soup = BeautifulSoup(target, \"html.parser\")\n",
    "tmp = soup.select(\"location\")\n",
    "\n",
    "a = []\n",
    "b = []\n",
    "c = []\n",
    "d = []\n",
    "e = []\n",
    "\n",
    "for i in tmp:\n",
    "    tmp1 = i.select(\"data\")\n",
    "    for j in tmp1:\n",
    "#         print(\"{},{},{},{},{}\".format(i.select_one('city').text, \n",
    "#                                       j.select_one(\"tmEf\").text, \n",
    "#                                       j.select_one(\"wf\").text,\n",
    "#                                       j.select_one(\"tmn\").text,\n",
    "#                                       j.select_one(\"tmx\").text))\n",
    "        a.append( i.select_one('city').text )\n",
    "        b.append( j.select_one(\"tmEf\").text )\n",
    "        c.append( j.select_one(\"wf\").text )\n",
    "        d.append( j.select_one(\"tmn\").text )\n",
    "        e.append( j.select_one(\"tmx\").text )\n",
    "        \n",
    "df = pd.DataFrame({ \"city\":a, \"tmef\":b, \"wf\":c, \"tmn\":d, \"tmx\":e })\n",
    "df.info()\n",
    "df"
   ]
  },
  {
   "cell_type": "markdown",
   "metadata": {},
   "source": [
    "### 타입 확인 후  tmef date, tmn int64, tmx int64 로 변환하기"
   ]
  },
  {
   "cell_type": "code",
   "execution_count": 20,
   "metadata": {
    "scrolled": false
   },
   "outputs": [
    {
     "name": "stdout",
     "output_type": "stream",
     "text": [
      "<class 'pandas.core.frame.DataFrame'>\n",
      "RangeIndex: 533 entries, 0 to 532\n",
      "Data columns (total 5 columns):\n",
      " #   Column  Non-Null Count  Dtype         \n",
      "---  ------  --------------  -----         \n",
      " 0   city    533 non-null    object        \n",
      " 1   tmef    533 non-null    datetime64[ns]\n",
      " 2   wf      533 non-null    object        \n",
      " 3   tmn     533 non-null    int64         \n",
      " 4   tmx     533 non-null    int64         \n",
      "dtypes: datetime64[ns](1), int64(2), object(2)\n",
      "memory usage: 20.9+ KB\n"
     ]
    }
   ],
   "source": [
    "#타입 확인 후  tmef date, tmn int64, tmx int64 로 변환하기\n",
    "df['tmn'] = df['tmn'].astype('int64') # 형 변환하기\n",
    "df['tmx'] = pd.to_numeric(df['tmx']) # 형 변환하기\n",
    "df['tmef'] = pd.to_datetime(df['tmef'])\n",
    "df.info()"
   ]
  },
  {
   "cell_type": "code",
   "execution_count": 21,
   "metadata": {},
   "outputs": [
    {
     "data": {
      "text/html": [
       "<div>\n",
       "<style scoped>\n",
       "    .dataframe tbody tr th:only-of-type {\n",
       "        vertical-align: middle;\n",
       "    }\n",
       "\n",
       "    .dataframe tbody tr th {\n",
       "        vertical-align: top;\n",
       "    }\n",
       "\n",
       "    .dataframe thead th {\n",
       "        text-align: right;\n",
       "    }\n",
       "</style>\n",
       "<table border=\"1\" class=\"dataframe\">\n",
       "  <thead>\n",
       "    <tr style=\"text-align: right;\">\n",
       "      <th></th>\n",
       "      <th>city</th>\n",
       "      <th>tmef</th>\n",
       "      <th>wf</th>\n",
       "      <th>tmn</th>\n",
       "      <th>tmx</th>\n",
       "      <th>year</th>\n",
       "      <th>month</th>\n",
       "      <th>day</th>\n",
       "      <th>time</th>\n",
       "      <th>minute</th>\n",
       "      <th>second</th>\n",
       "    </tr>\n",
       "  </thead>\n",
       "  <tbody>\n",
       "    <tr>\n",
       "      <th>0</th>\n",
       "      <td>서울</td>\n",
       "      <td>2020-08-12 00:00:00</td>\n",
       "      <td>흐리고 비</td>\n",
       "      <td>24</td>\n",
       "      <td>30</td>\n",
       "      <td>2020</td>\n",
       "      <td>8</td>\n",
       "      <td>12</td>\n",
       "      <td>0</td>\n",
       "      <td>0</td>\n",
       "      <td>0</td>\n",
       "    </tr>\n",
       "    <tr>\n",
       "      <th>1</th>\n",
       "      <td>서울</td>\n",
       "      <td>2020-08-12 12:00:00</td>\n",
       "      <td>흐리고 비</td>\n",
       "      <td>24</td>\n",
       "      <td>30</td>\n",
       "      <td>2020</td>\n",
       "      <td>8</td>\n",
       "      <td>12</td>\n",
       "      <td>12</td>\n",
       "      <td>0</td>\n",
       "      <td>0</td>\n",
       "    </tr>\n",
       "    <tr>\n",
       "      <th>2</th>\n",
       "      <td>서울</td>\n",
       "      <td>2020-08-13 00:00:00</td>\n",
       "      <td>흐리고 비</td>\n",
       "      <td>25</td>\n",
       "      <td>30</td>\n",
       "      <td>2020</td>\n",
       "      <td>8</td>\n",
       "      <td>13</td>\n",
       "      <td>0</td>\n",
       "      <td>0</td>\n",
       "      <td>0</td>\n",
       "    </tr>\n",
       "    <tr>\n",
       "      <th>3</th>\n",
       "      <td>서울</td>\n",
       "      <td>2020-08-13 12:00:00</td>\n",
       "      <td>흐리고 비</td>\n",
       "      <td>25</td>\n",
       "      <td>30</td>\n",
       "      <td>2020</td>\n",
       "      <td>8</td>\n",
       "      <td>13</td>\n",
       "      <td>12</td>\n",
       "      <td>0</td>\n",
       "      <td>0</td>\n",
       "    </tr>\n",
       "    <tr>\n",
       "      <th>4</th>\n",
       "      <td>서울</td>\n",
       "      <td>2020-08-14 00:00:00</td>\n",
       "      <td>흐리고 비</td>\n",
       "      <td>24</td>\n",
       "      <td>29</td>\n",
       "      <td>2020</td>\n",
       "      <td>8</td>\n",
       "      <td>14</td>\n",
       "      <td>0</td>\n",
       "      <td>0</td>\n",
       "      <td>0</td>\n",
       "    </tr>\n",
       "    <tr>\n",
       "      <th>...</th>\n",
       "      <td>...</td>\n",
       "      <td>...</td>\n",
       "      <td>...</td>\n",
       "      <td>...</td>\n",
       "      <td>...</td>\n",
       "      <td>...</td>\n",
       "      <td>...</td>\n",
       "      <td>...</td>\n",
       "      <td>...</td>\n",
       "      <td>...</td>\n",
       "      <td>...</td>\n",
       "    </tr>\n",
       "    <tr>\n",
       "      <th>528</th>\n",
       "      <td>서귀포</td>\n",
       "      <td>2020-08-16 00:00:00</td>\n",
       "      <td>맑음</td>\n",
       "      <td>25</td>\n",
       "      <td>30</td>\n",
       "      <td>2020</td>\n",
       "      <td>8</td>\n",
       "      <td>16</td>\n",
       "      <td>0</td>\n",
       "      <td>0</td>\n",
       "      <td>0</td>\n",
       "    </tr>\n",
       "    <tr>\n",
       "      <th>529</th>\n",
       "      <td>서귀포</td>\n",
       "      <td>2020-08-16 12:00:00</td>\n",
       "      <td>맑음</td>\n",
       "      <td>25</td>\n",
       "      <td>30</td>\n",
       "      <td>2020</td>\n",
       "      <td>8</td>\n",
       "      <td>16</td>\n",
       "      <td>12</td>\n",
       "      <td>0</td>\n",
       "      <td>0</td>\n",
       "    </tr>\n",
       "    <tr>\n",
       "      <th>530</th>\n",
       "      <td>서귀포</td>\n",
       "      <td>2020-08-17 00:00:00</td>\n",
       "      <td>구름많음</td>\n",
       "      <td>25</td>\n",
       "      <td>30</td>\n",
       "      <td>2020</td>\n",
       "      <td>8</td>\n",
       "      <td>17</td>\n",
       "      <td>0</td>\n",
       "      <td>0</td>\n",
       "      <td>0</td>\n",
       "    </tr>\n",
       "    <tr>\n",
       "      <th>531</th>\n",
       "      <td>서귀포</td>\n",
       "      <td>2020-08-18 00:00:00</td>\n",
       "      <td>구름많음</td>\n",
       "      <td>25</td>\n",
       "      <td>30</td>\n",
       "      <td>2020</td>\n",
       "      <td>8</td>\n",
       "      <td>18</td>\n",
       "      <td>0</td>\n",
       "      <td>0</td>\n",
       "      <td>0</td>\n",
       "    </tr>\n",
       "    <tr>\n",
       "      <th>532</th>\n",
       "      <td>서귀포</td>\n",
       "      <td>2020-08-19 00:00:00</td>\n",
       "      <td>맑음</td>\n",
       "      <td>25</td>\n",
       "      <td>30</td>\n",
       "      <td>2020</td>\n",
       "      <td>8</td>\n",
       "      <td>19</td>\n",
       "      <td>0</td>\n",
       "      <td>0</td>\n",
       "      <td>0</td>\n",
       "    </tr>\n",
       "  </tbody>\n",
       "</table>\n",
       "<p>533 rows × 11 columns</p>\n",
       "</div>"
      ],
      "text/plain": [
       "    city                tmef     wf  tmn  tmx  year  month  day  time  minute  \\\n",
       "0     서울 2020-08-12 00:00:00  흐리고 비   24   30  2020      8   12     0       0   \n",
       "1     서울 2020-08-12 12:00:00  흐리고 비   24   30  2020      8   12    12       0   \n",
       "2     서울 2020-08-13 00:00:00  흐리고 비   25   30  2020      8   13     0       0   \n",
       "3     서울 2020-08-13 12:00:00  흐리고 비   25   30  2020      8   13    12       0   \n",
       "4     서울 2020-08-14 00:00:00  흐리고 비   24   29  2020      8   14     0       0   \n",
       "..   ...                 ...    ...  ...  ...   ...    ...  ...   ...     ...   \n",
       "528  서귀포 2020-08-16 00:00:00     맑음   25   30  2020      8   16     0       0   \n",
       "529  서귀포 2020-08-16 12:00:00     맑음   25   30  2020      8   16    12       0   \n",
       "530  서귀포 2020-08-17 00:00:00   구름많음   25   30  2020      8   17     0       0   \n",
       "531  서귀포 2020-08-18 00:00:00   구름많음   25   30  2020      8   18     0       0   \n",
       "532  서귀포 2020-08-19 00:00:00     맑음   25   30  2020      8   19     0       0   \n",
       "\n",
       "     second  \n",
       "0         0  \n",
       "1         0  \n",
       "2         0  \n",
       "3         0  \n",
       "4         0  \n",
       "..      ...  \n",
       "528       0  \n",
       "529       0  \n",
       "530       0  \n",
       "531       0  \n",
       "532       0  \n",
       "\n",
       "[533 rows x 11 columns]"
      ]
     },
     "execution_count": 21,
     "metadata": {},
     "output_type": "execute_result"
    }
   ],
   "source": [
    "#날짜 type분할\n",
    "df['year'] = df['tmef'].dt.year\n",
    "df['month'] = df['tmef'].dt.month\n",
    "df['day'] = df['tmef'].dt.day\n",
    "df['time'] = df['tmef'].dt.hour         # 시(숫자)\n",
    "df['minute'] = df['tmef'].dt.minute       # 분(숫자)\n",
    "df['second'] = df['tmef'].dt.second       # 초(숫자)\n",
    "df"
   ]
  },
  {
   "cell_type": "code",
   "execution_count": 24,
   "metadata": {},
   "outputs": [
    {
     "data": {
      "text/plain": [
       "<pymongo.results.InsertManyResult at 0x7fddb10054b0>"
      ]
     },
     "execution_count": 24,
     "metadata": {},
     "output_type": "execute_result"
    }
   ],
   "source": [
    "# 문제 : 위의 dataframe을 noSQL에 저장하시오.\n",
    "# db에 추가하기\n",
    "import pymongo\n",
    "\n",
    "conn = pymongo.MongoClient('192.168.99.100',32767) #docker 서버 접속\n",
    "#conn = pymongo.MongoClient('localhost',27017)      #윈도우\n",
    "db = conn.get_database(\"db1\") # db1생성\n",
    "table = db.get_collection(\"test10\") #collection 생성\n",
    "\n",
    "data = df.to_dict(orient='records')  # 데이터 프레임을 딕셔너리로 변경한 후 추가하기!!\n",
    "table.insert_many(data)"
   ]
  },
  {
   "cell_type": "code",
   "execution_count": 30,
   "metadata": {},
   "outputs": [
    {
     "data": {
      "text/html": [
       "<div>\n",
       "<style scoped>\n",
       "    .dataframe tbody tr th:only-of-type {\n",
       "        vertical-align: middle;\n",
       "    }\n",
       "\n",
       "    .dataframe tbody tr th {\n",
       "        vertical-align: top;\n",
       "    }\n",
       "\n",
       "    .dataframe thead th {\n",
       "        text-align: right;\n",
       "    }\n",
       "</style>\n",
       "<table border=\"1\" class=\"dataframe\">\n",
       "  <thead>\n",
       "    <tr style=\"text-align: right;\">\n",
       "      <th></th>\n",
       "      <th>city</th>\n",
       "      <th>tmef</th>\n",
       "      <th>wf</th>\n",
       "      <th>tmn</th>\n",
       "      <th>tmx</th>\n",
       "      <th>year</th>\n",
       "      <th>month</th>\n",
       "      <th>day</th>\n",
       "      <th>time</th>\n",
       "      <th>minute</th>\n",
       "      <th>second</th>\n",
       "    </tr>\n",
       "  </thead>\n",
       "  <tbody>\n",
       "    <tr>\n",
       "      <th>0</th>\n",
       "      <td>서울</td>\n",
       "      <td>2020-08-12 00:00:00</td>\n",
       "      <td>흐리고 비</td>\n",
       "      <td>24</td>\n",
       "      <td>30</td>\n",
       "      <td>2020</td>\n",
       "      <td>8</td>\n",
       "      <td>12</td>\n",
       "      <td>0</td>\n",
       "      <td>0</td>\n",
       "      <td>0</td>\n",
       "    </tr>\n",
       "    <tr>\n",
       "      <th>1</th>\n",
       "      <td>서울</td>\n",
       "      <td>2020-08-12 12:00:00</td>\n",
       "      <td>흐리고 비</td>\n",
       "      <td>24</td>\n",
       "      <td>30</td>\n",
       "      <td>2020</td>\n",
       "      <td>8</td>\n",
       "      <td>12</td>\n",
       "      <td>12</td>\n",
       "      <td>0</td>\n",
       "      <td>0</td>\n",
       "    </tr>\n",
       "    <tr>\n",
       "      <th>2</th>\n",
       "      <td>서울</td>\n",
       "      <td>2020-08-13 00:00:00</td>\n",
       "      <td>흐리고 비</td>\n",
       "      <td>25</td>\n",
       "      <td>30</td>\n",
       "      <td>2020</td>\n",
       "      <td>8</td>\n",
       "      <td>13</td>\n",
       "      <td>0</td>\n",
       "      <td>0</td>\n",
       "      <td>0</td>\n",
       "    </tr>\n",
       "    <tr>\n",
       "      <th>3</th>\n",
       "      <td>서울</td>\n",
       "      <td>2020-08-13 12:00:00</td>\n",
       "      <td>흐리고 비</td>\n",
       "      <td>25</td>\n",
       "      <td>30</td>\n",
       "      <td>2020</td>\n",
       "      <td>8</td>\n",
       "      <td>13</td>\n",
       "      <td>12</td>\n",
       "      <td>0</td>\n",
       "      <td>0</td>\n",
       "    </tr>\n",
       "    <tr>\n",
       "      <th>4</th>\n",
       "      <td>서울</td>\n",
       "      <td>2020-08-14 00:00:00</td>\n",
       "      <td>흐리고 비</td>\n",
       "      <td>24</td>\n",
       "      <td>29</td>\n",
       "      <td>2020</td>\n",
       "      <td>8</td>\n",
       "      <td>14</td>\n",
       "      <td>0</td>\n",
       "      <td>0</td>\n",
       "      <td>0</td>\n",
       "    </tr>\n",
       "    <tr>\n",
       "      <th>...</th>\n",
       "      <td>...</td>\n",
       "      <td>...</td>\n",
       "      <td>...</td>\n",
       "      <td>...</td>\n",
       "      <td>...</td>\n",
       "      <td>...</td>\n",
       "      <td>...</td>\n",
       "      <td>...</td>\n",
       "      <td>...</td>\n",
       "      <td>...</td>\n",
       "      <td>...</td>\n",
       "    </tr>\n",
       "    <tr>\n",
       "      <th>1061</th>\n",
       "      <td>서귀포</td>\n",
       "      <td>2020-08-16 00:00:00</td>\n",
       "      <td>맑음</td>\n",
       "      <td>25</td>\n",
       "      <td>30</td>\n",
       "      <td>2020</td>\n",
       "      <td>8</td>\n",
       "      <td>16</td>\n",
       "      <td>0</td>\n",
       "      <td>0</td>\n",
       "      <td>0</td>\n",
       "    </tr>\n",
       "    <tr>\n",
       "      <th>1062</th>\n",
       "      <td>서귀포</td>\n",
       "      <td>2020-08-16 12:00:00</td>\n",
       "      <td>맑음</td>\n",
       "      <td>25</td>\n",
       "      <td>30</td>\n",
       "      <td>2020</td>\n",
       "      <td>8</td>\n",
       "      <td>16</td>\n",
       "      <td>12</td>\n",
       "      <td>0</td>\n",
       "      <td>0</td>\n",
       "    </tr>\n",
       "    <tr>\n",
       "      <th>1063</th>\n",
       "      <td>서귀포</td>\n",
       "      <td>2020-08-17 00:00:00</td>\n",
       "      <td>구름많음</td>\n",
       "      <td>25</td>\n",
       "      <td>30</td>\n",
       "      <td>2020</td>\n",
       "      <td>8</td>\n",
       "      <td>17</td>\n",
       "      <td>0</td>\n",
       "      <td>0</td>\n",
       "      <td>0</td>\n",
       "    </tr>\n",
       "    <tr>\n",
       "      <th>1064</th>\n",
       "      <td>서귀포</td>\n",
       "      <td>2020-08-18 00:00:00</td>\n",
       "      <td>구름많음</td>\n",
       "      <td>25</td>\n",
       "      <td>30</td>\n",
       "      <td>2020</td>\n",
       "      <td>8</td>\n",
       "      <td>18</td>\n",
       "      <td>0</td>\n",
       "      <td>0</td>\n",
       "      <td>0</td>\n",
       "    </tr>\n",
       "    <tr>\n",
       "      <th>1065</th>\n",
       "      <td>서귀포</td>\n",
       "      <td>2020-08-19 00:00:00</td>\n",
       "      <td>맑음</td>\n",
       "      <td>25</td>\n",
       "      <td>30</td>\n",
       "      <td>2020</td>\n",
       "      <td>8</td>\n",
       "      <td>19</td>\n",
       "      <td>0</td>\n",
       "      <td>0</td>\n",
       "      <td>0</td>\n",
       "    </tr>\n",
       "  </tbody>\n",
       "</table>\n",
       "<p>1066 rows × 11 columns</p>\n",
       "</div>"
      ],
      "text/plain": [
       "     city                tmef     wf  tmn  tmx  year  month  day  time  \\\n",
       "0      서울 2020-08-12 00:00:00  흐리고 비   24   30  2020      8   12     0   \n",
       "1      서울 2020-08-12 12:00:00  흐리고 비   24   30  2020      8   12    12   \n",
       "2      서울 2020-08-13 00:00:00  흐리고 비   25   30  2020      8   13     0   \n",
       "3      서울 2020-08-13 12:00:00  흐리고 비   25   30  2020      8   13    12   \n",
       "4      서울 2020-08-14 00:00:00  흐리고 비   24   29  2020      8   14     0   \n",
       "...   ...                 ...    ...  ...  ...   ...    ...  ...   ...   \n",
       "1061  서귀포 2020-08-16 00:00:00     맑음   25   30  2020      8   16     0   \n",
       "1062  서귀포 2020-08-16 12:00:00     맑음   25   30  2020      8   16    12   \n",
       "1063  서귀포 2020-08-17 00:00:00   구름많음   25   30  2020      8   17     0   \n",
       "1064  서귀포 2020-08-18 00:00:00   구름많음   25   30  2020      8   18     0   \n",
       "1065  서귀포 2020-08-19 00:00:00     맑음   25   30  2020      8   19     0   \n",
       "\n",
       "      minute  second  \n",
       "0          0       0  \n",
       "1          0       0  \n",
       "2          0       0  \n",
       "3          0       0  \n",
       "4          0       0  \n",
       "...      ...     ...  \n",
       "1061       0       0  \n",
       "1062       0       0  \n",
       "1063       0       0  \n",
       "1064       0       0  \n",
       "1065       0       0  \n",
       "\n",
       "[1066 rows x 11 columns]"
      ]
     },
     "execution_count": 30,
     "metadata": {},
     "output_type": "execute_result"
    }
   ],
   "source": [
    "# 문제 : 저장한 dataframe을 noSQL에 가져와서 출력하시오.\n",
    "# db에서 가져오기\n",
    "import pymongo\n",
    "\n",
    "conn = pymongo.MongoClient('192.168.99.100',32767)  # docker 서버 접속\n",
    "#conn = pymongo.MongoClient('localhost',27017)      # 윈도우\n",
    "db = conn.get_database(\"db1\") # db1생성\n",
    "table = db.get_collection(\"test10\") # test10과 연결\n",
    "\n",
    "data = table.find({},{'_id':False}) #table로 선언한 정보 가져오기\n",
    "\n",
    "df1 = pd.DataFrame(data) # dataframe으로 출력\n",
    "df1"
   ]
  },
  {
   "cell_type": "code",
   "execution_count": 31,
   "metadata": {},
   "outputs": [],
   "source": [
    "# csv파일로 저장하기\n",
    "df.to_csv('test10.csv', index=False)"
   ]
  },
  {
   "cell_type": "code",
   "execution_count": 32,
   "metadata": {},
   "outputs": [
    {
     "data": {
      "text/html": [
       "<div>\n",
       "<style scoped>\n",
       "    .dataframe tbody tr th:only-of-type {\n",
       "        vertical-align: middle;\n",
       "    }\n",
       "\n",
       "    .dataframe tbody tr th {\n",
       "        vertical-align: top;\n",
       "    }\n",
       "\n",
       "    .dataframe thead th {\n",
       "        text-align: right;\n",
       "    }\n",
       "</style>\n",
       "<table border=\"1\" class=\"dataframe\">\n",
       "  <thead>\n",
       "    <tr style=\"text-align: right;\">\n",
       "      <th></th>\n",
       "      <th>city</th>\n",
       "      <th>tmef</th>\n",
       "      <th>wf</th>\n",
       "      <th>tmn</th>\n",
       "      <th>tmx</th>\n",
       "      <th>year</th>\n",
       "      <th>month</th>\n",
       "      <th>day</th>\n",
       "      <th>time</th>\n",
       "      <th>minute</th>\n",
       "      <th>second</th>\n",
       "    </tr>\n",
       "  </thead>\n",
       "  <tbody>\n",
       "    <tr>\n",
       "      <th>0</th>\n",
       "      <td>서울</td>\n",
       "      <td>2020-08-12 00:00:00</td>\n",
       "      <td>흐리고 비</td>\n",
       "      <td>24</td>\n",
       "      <td>30</td>\n",
       "      <td>2020</td>\n",
       "      <td>8</td>\n",
       "      <td>12</td>\n",
       "      <td>0</td>\n",
       "      <td>0</td>\n",
       "      <td>0</td>\n",
       "    </tr>\n",
       "    <tr>\n",
       "      <th>1</th>\n",
       "      <td>서울</td>\n",
       "      <td>2020-08-12 12:00:00</td>\n",
       "      <td>흐리고 비</td>\n",
       "      <td>24</td>\n",
       "      <td>30</td>\n",
       "      <td>2020</td>\n",
       "      <td>8</td>\n",
       "      <td>12</td>\n",
       "      <td>12</td>\n",
       "      <td>0</td>\n",
       "      <td>0</td>\n",
       "    </tr>\n",
       "    <tr>\n",
       "      <th>2</th>\n",
       "      <td>서울</td>\n",
       "      <td>2020-08-13 00:00:00</td>\n",
       "      <td>흐리고 비</td>\n",
       "      <td>25</td>\n",
       "      <td>30</td>\n",
       "      <td>2020</td>\n",
       "      <td>8</td>\n",
       "      <td>13</td>\n",
       "      <td>0</td>\n",
       "      <td>0</td>\n",
       "      <td>0</td>\n",
       "    </tr>\n",
       "    <tr>\n",
       "      <th>3</th>\n",
       "      <td>서울</td>\n",
       "      <td>2020-08-13 12:00:00</td>\n",
       "      <td>흐리고 비</td>\n",
       "      <td>25</td>\n",
       "      <td>30</td>\n",
       "      <td>2020</td>\n",
       "      <td>8</td>\n",
       "      <td>13</td>\n",
       "      <td>12</td>\n",
       "      <td>0</td>\n",
       "      <td>0</td>\n",
       "    </tr>\n",
       "    <tr>\n",
       "      <th>4</th>\n",
       "      <td>서울</td>\n",
       "      <td>2020-08-14 00:00:00</td>\n",
       "      <td>흐리고 비</td>\n",
       "      <td>24</td>\n",
       "      <td>29</td>\n",
       "      <td>2020</td>\n",
       "      <td>8</td>\n",
       "      <td>14</td>\n",
       "      <td>0</td>\n",
       "      <td>0</td>\n",
       "      <td>0</td>\n",
       "    </tr>\n",
       "    <tr>\n",
       "      <th>...</th>\n",
       "      <td>...</td>\n",
       "      <td>...</td>\n",
       "      <td>...</td>\n",
       "      <td>...</td>\n",
       "      <td>...</td>\n",
       "      <td>...</td>\n",
       "      <td>...</td>\n",
       "      <td>...</td>\n",
       "      <td>...</td>\n",
       "      <td>...</td>\n",
       "      <td>...</td>\n",
       "    </tr>\n",
       "    <tr>\n",
       "      <th>528</th>\n",
       "      <td>서귀포</td>\n",
       "      <td>2020-08-16 00:00:00</td>\n",
       "      <td>맑음</td>\n",
       "      <td>25</td>\n",
       "      <td>30</td>\n",
       "      <td>2020</td>\n",
       "      <td>8</td>\n",
       "      <td>16</td>\n",
       "      <td>0</td>\n",
       "      <td>0</td>\n",
       "      <td>0</td>\n",
       "    </tr>\n",
       "    <tr>\n",
       "      <th>529</th>\n",
       "      <td>서귀포</td>\n",
       "      <td>2020-08-16 12:00:00</td>\n",
       "      <td>맑음</td>\n",
       "      <td>25</td>\n",
       "      <td>30</td>\n",
       "      <td>2020</td>\n",
       "      <td>8</td>\n",
       "      <td>16</td>\n",
       "      <td>12</td>\n",
       "      <td>0</td>\n",
       "      <td>0</td>\n",
       "    </tr>\n",
       "    <tr>\n",
       "      <th>530</th>\n",
       "      <td>서귀포</td>\n",
       "      <td>2020-08-17 00:00:00</td>\n",
       "      <td>구름많음</td>\n",
       "      <td>25</td>\n",
       "      <td>30</td>\n",
       "      <td>2020</td>\n",
       "      <td>8</td>\n",
       "      <td>17</td>\n",
       "      <td>0</td>\n",
       "      <td>0</td>\n",
       "      <td>0</td>\n",
       "    </tr>\n",
       "    <tr>\n",
       "      <th>531</th>\n",
       "      <td>서귀포</td>\n",
       "      <td>2020-08-18 00:00:00</td>\n",
       "      <td>구름많음</td>\n",
       "      <td>25</td>\n",
       "      <td>30</td>\n",
       "      <td>2020</td>\n",
       "      <td>8</td>\n",
       "      <td>18</td>\n",
       "      <td>0</td>\n",
       "      <td>0</td>\n",
       "      <td>0</td>\n",
       "    </tr>\n",
       "    <tr>\n",
       "      <th>532</th>\n",
       "      <td>서귀포</td>\n",
       "      <td>2020-08-19 00:00:00</td>\n",
       "      <td>맑음</td>\n",
       "      <td>25</td>\n",
       "      <td>30</td>\n",
       "      <td>2020</td>\n",
       "      <td>8</td>\n",
       "      <td>19</td>\n",
       "      <td>0</td>\n",
       "      <td>0</td>\n",
       "      <td>0</td>\n",
       "    </tr>\n",
       "  </tbody>\n",
       "</table>\n",
       "<p>533 rows × 11 columns</p>\n",
       "</div>"
      ],
      "text/plain": [
       "    city                 tmef     wf  tmn  tmx  year  month  day  time  \\\n",
       "0     서울  2020-08-12 00:00:00  흐리고 비   24   30  2020      8   12     0   \n",
       "1     서울  2020-08-12 12:00:00  흐리고 비   24   30  2020      8   12    12   \n",
       "2     서울  2020-08-13 00:00:00  흐리고 비   25   30  2020      8   13     0   \n",
       "3     서울  2020-08-13 12:00:00  흐리고 비   25   30  2020      8   13    12   \n",
       "4     서울  2020-08-14 00:00:00  흐리고 비   24   29  2020      8   14     0   \n",
       "..   ...                  ...    ...  ...  ...   ...    ...  ...   ...   \n",
       "528  서귀포  2020-08-16 00:00:00     맑음   25   30  2020      8   16     0   \n",
       "529  서귀포  2020-08-16 12:00:00     맑음   25   30  2020      8   16    12   \n",
       "530  서귀포  2020-08-17 00:00:00   구름많음   25   30  2020      8   17     0   \n",
       "531  서귀포  2020-08-18 00:00:00   구름많음   25   30  2020      8   18     0   \n",
       "532  서귀포  2020-08-19 00:00:00     맑음   25   30  2020      8   19     0   \n",
       "\n",
       "     minute  second  \n",
       "0         0       0  \n",
       "1         0       0  \n",
       "2         0       0  \n",
       "3         0       0  \n",
       "4         0       0  \n",
       "..      ...     ...  \n",
       "528       0       0  \n",
       "529       0       0  \n",
       "530       0       0  \n",
       "531       0       0  \n",
       "532       0       0  \n",
       "\n",
       "[533 rows x 11 columns]"
      ]
     },
     "execution_count": 32,
     "metadata": {},
     "output_type": "execute_result"
    }
   ],
   "source": [
    "# csv 파일 읽기\n",
    "data = pd.read_csv(\"./test10.csv\")\n",
    "data"
   ]
  }
 ],
 "metadata": {
  "kernelspec": {
   "display_name": "Python 3",
   "language": "python",
   "name": "python3"
  },
  "language_info": {
   "codemirror_mode": {
    "name": "ipython",
    "version": 3
   },
   "file_extension": ".py",
   "mimetype": "text/x-python",
   "name": "python",
   "nbconvert_exporter": "python",
   "pygments_lexer": "ipython3",
   "version": "3.7.6"
  }
 },
 "nbformat": 4,
 "nbformat_minor": 4
}
